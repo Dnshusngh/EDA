{
 "cells": [
  {
   "cell_type": "markdown",
   "id": "12cfd5bb",
   "metadata": {},
   "source": [
    "# WORLD PORT INDEX"
   ]
  },
  {
   "cell_type": "code",
   "execution_count": 1,
   "id": "3d9f01a6",
   "metadata": {},
   "outputs": [],
   "source": [
    "import numpy as np\n",
    "import pandas as pd\n",
    "from matplotlib import pyplot as plt\n",
    "from matplotlib import style"
   ]
  },
  {
   "cell_type": "markdown",
   "id": "48bc0e36",
   "metadata": {},
   "source": [
    "# Replace 'your_file.csv' with the actual path to your CSV file"
   ]
  },
  {
   "cell_type": "markdown",
   "id": "84a6ece6",
   "metadata": {},
   "source": [
    "# Load CSV file into a Pandas DataFrame"
   ]
  },
  {
   "cell_type": "markdown",
   "id": "8cf8ccb8",
   "metadata": {},
   "source": [
    "# 1.\tWrite a code to load a CSV file into a Pandas DataFrame and display the first and last few rows."
   ]
  },
  {
   "cell_type": "code",
   "execution_count": 2,
   "id": "c148c294",
   "metadata": {},
   "outputs": [
    {
     "data": {
      "text/html": [
       "<div>\n",
       "<style scoped>\n",
       "    .dataframe tbody tr th:only-of-type {\n",
       "        vertical-align: middle;\n",
       "    }\n",
       "\n",
       "    .dataframe tbody tr th {\n",
       "        vertical-align: top;\n",
       "    }\n",
       "\n",
       "    .dataframe thead th {\n",
       "        text-align: right;\n",
       "    }\n",
       "</style>\n",
       "<table border=\"1\" class=\"dataframe\">\n",
       "  <thead>\n",
       "    <tr style=\"text-align: right;\">\n",
       "      <th></th>\n",
       "      <th>FID</th>\n",
       "      <th>INDEX_NO</th>\n",
       "      <th>REGION_NO</th>\n",
       "      <th>PORT_NAME</th>\n",
       "      <th>COUNTRY</th>\n",
       "      <th>LATITUDE</th>\n",
       "      <th>LONGITUDE</th>\n",
       "      <th>LAT_DEG</th>\n",
       "      <th>LAT_MIN</th>\n",
       "      <th>LAT_HEMI</th>\n",
       "      <th>LONG_DEG</th>\n",
       "      <th>LONG_MIN</th>\n",
       "      <th>LONG_HEMI</th>\n",
       "      <th>PUB</th>\n",
       "      <th>CHART</th>\n",
       "      <th>HARBORSIZE</th>\n",
       "      <th>HARBORTYPE</th>\n",
       "      <th>SHELTER</th>\n",
       "      <th>ENTRY_TIDE</th>\n",
       "      <th>ENTRYSWELL</th>\n",
       "    </tr>\n",
       "  </thead>\n",
       "  <tbody>\n",
       "    <tr>\n",
       "      <th>0</th>\n",
       "      <td>1</td>\n",
       "      <td>44730</td>\n",
       "      <td>44360</td>\n",
       "      <td>AYVALIK</td>\n",
       "      <td>TR</td>\n",
       "      <td>39.316667</td>\n",
       "      <td>26.700000</td>\n",
       "      <td>39</td>\n",
       "      <td>19</td>\n",
       "      <td>N</td>\n",
       "      <td>26</td>\n",
       "      <td>42</td>\n",
       "      <td>E</td>\n",
       "      <td>132</td>\n",
       "      <td>54382</td>\n",
       "      <td>V</td>\n",
       "      <td>CN</td>\n",
       "      <td>G</td>\n",
       "      <td>N</td>\n",
       "      <td>N</td>\n",
       "    </tr>\n",
       "    <tr>\n",
       "      <th>1</th>\n",
       "      <td>2</td>\n",
       "      <td>44750</td>\n",
       "      <td>44360</td>\n",
       "      <td>IZMIR</td>\n",
       "      <td>TR</td>\n",
       "      <td>38.433333</td>\n",
       "      <td>27.133333</td>\n",
       "      <td>38</td>\n",
       "      <td>26</td>\n",
       "      <td>N</td>\n",
       "      <td>27</td>\n",
       "      <td>8</td>\n",
       "      <td>E</td>\n",
       "      <td>132</td>\n",
       "      <td>54387</td>\n",
       "      <td>L</td>\n",
       "      <td>CN</td>\n",
       "      <td>F</td>\n",
       "      <td>N</td>\n",
       "      <td>Y</td>\n",
       "    </tr>\n",
       "    <tr>\n",
       "      <th>2</th>\n",
       "      <td>3</td>\n",
       "      <td>57610</td>\n",
       "      <td>57510</td>\n",
       "      <td>VINH CAM RANH</td>\n",
       "      <td>VN</td>\n",
       "      <td>11.883333</td>\n",
       "      <td>109.166667</td>\n",
       "      <td>11</td>\n",
       "      <td>53</td>\n",
       "      <td>N</td>\n",
       "      <td>109</td>\n",
       "      <td>10</td>\n",
       "      <td>E</td>\n",
       "      <td>161</td>\n",
       "      <td>93446</td>\n",
       "      <td>S</td>\n",
       "      <td>CN</td>\n",
       "      <td>G</td>\n",
       "      <td>N</td>\n",
       "      <td>N</td>\n",
       "    </tr>\n",
       "    <tr>\n",
       "      <th>3</th>\n",
       "      <td>4</td>\n",
       "      <td>57620</td>\n",
       "      <td>57510</td>\n",
       "      <td>NHA TRANG</td>\n",
       "      <td>VN</td>\n",
       "      <td>12.250000</td>\n",
       "      <td>109.233333</td>\n",
       "      <td>12</td>\n",
       "      <td>15</td>\n",
       "      <td>N</td>\n",
       "      <td>109</td>\n",
       "      <td>14</td>\n",
       "      <td>E</td>\n",
       "      <td>161</td>\n",
       "      <td>93442</td>\n",
       "      <td>S</td>\n",
       "      <td>OR</td>\n",
       "      <td>F</td>\n",
       "      <td>Y</td>\n",
       "      <td>Y</td>\n",
       "    </tr>\n",
       "    <tr>\n",
       "      <th>4</th>\n",
       "      <td>5</td>\n",
       "      <td>57640</td>\n",
       "      <td>57510</td>\n",
       "      <td>QUI NHON</td>\n",
       "      <td>VN</td>\n",
       "      <td>13.766667</td>\n",
       "      <td>109.233333</td>\n",
       "      <td>13</td>\n",
       "      <td>46</td>\n",
       "      <td>N</td>\n",
       "      <td>109</td>\n",
       "      <td>14</td>\n",
       "      <td>E</td>\n",
       "      <td>161</td>\n",
       "      <td>93491</td>\n",
       "      <td>V</td>\n",
       "      <td>CN</td>\n",
       "      <td>F</td>\n",
       "      <td>Y</td>\n",
       "      <td>Y</td>\n",
       "    </tr>\n",
       "  </tbody>\n",
       "</table>\n",
       "</div>"
      ],
      "text/plain": [
       "   FID  INDEX_NO  REGION_NO      PORT_NAME COUNTRY   LATITUDE   LONGITUDE  \\\n",
       "0    1     44730      44360        AYVALIK      TR  39.316667   26.700000   \n",
       "1    2     44750      44360          IZMIR      TR  38.433333   27.133333   \n",
       "2    3     57610      57510  VINH CAM RANH      VN  11.883333  109.166667   \n",
       "3    4     57620      57510      NHA TRANG      VN  12.250000  109.233333   \n",
       "4    5     57640      57510       QUI NHON      VN  13.766667  109.233333   \n",
       "\n",
       "   LAT_DEG  LAT_MIN LAT_HEMI  LONG_DEG  LONG_MIN LONG_HEMI  PUB  CHART  \\\n",
       "0       39       19        N        26        42         E  132  54382   \n",
       "1       38       26        N        27         8         E  132  54387   \n",
       "2       11       53        N       109        10         E  161  93446   \n",
       "3       12       15        N       109        14         E  161  93442   \n",
       "4       13       46        N       109        14         E  161  93491   \n",
       "\n",
       "  HARBORSIZE HARBORTYPE SHELTER ENTRY_TIDE ENTRYSWELL  \n",
       "0          V         CN       G          N          N  \n",
       "1          L         CN       F          N          Y  \n",
       "2          S         CN       G          N          N  \n",
       "3          S         OR       F          Y          Y  \n",
       "4          V         CN       F          Y          Y  "
      ]
     },
     "execution_count": 2,
     "metadata": {},
     "output_type": "execute_result"
    }
   ],
   "source": [
    "import pandas as pd\n",
    "import numpy as np\n",
    "import seaborn as sns\n",
    "\n",
    "dataset_path = ('G:\\World Port Index\\World project\\World_Port_Index.csv')\n",
    "df = pd.read_csv(dataset_path)\n",
    "\n",
    "\n",
    "df.head()"
   ]
  },
  {
   "cell_type": "markdown",
   "id": "34cccead",
   "metadata": {},
   "source": [
    "# Display the first few rows of the DataFrame"
   ]
  },
  {
   "cell_type": "code",
   "execution_count": 12,
   "id": "f7f04065",
   "metadata": {},
   "outputs": [
    {
     "name": "stdout",
     "output_type": "stream",
     "text": [
      "First Few Rows:\n",
      "   FID  INDEX_NO  REGION_NO      PORT_NAME COUNTRY   LATITUDE   LONGITUDE  \\\n",
      "0    1     44730      44360        AYVALIK      TR  39.316667   26.700000   \n",
      "1    2     44750      44360          IZMIR      TR  38.433333   27.133333   \n",
      "2    3     57610      57510  VINH CAM RANH      VN  11.883333  109.166667   \n",
      "3    4     57620      57510      NHA TRANG      VN  12.250000  109.233333   \n",
      "4    5     57640      57510       QUI NHON      VN  13.766667  109.233333   \n",
      "\n",
      "   LAT_DEG  LAT_MIN LAT_HEMI  LONG_DEG  LONG_MIN LONG_HEMI  PUB  CHART  \\\n",
      "0       39       19        N        26        42         E  132  54382   \n",
      "1       38       26        N        27         8         E  132  54387   \n",
      "2       11       53        N       109        10         E  161  93446   \n",
      "3       12       15        N       109        14         E  161  93442   \n",
      "4       13       46        N       109        14         E  161  93491   \n",
      "\n",
      "  HARBORSIZE HARBORTYPE SHELTER ENTRY_TIDE ENTRYSWELL  \n",
      "0          V         CN       G          N          N  \n",
      "1          L         CN       F          N          Y  \n",
      "2          S         CN       G          N          N  \n",
      "3          S         OR       F          Y          Y  \n",
      "4          V         CN       F          Y          Y  \n"
     ]
    }
   ],
   "source": [
    "print(\"First Few Rows:\")\n",
    "print(df.head())"
   ]
  },
  {
   "cell_type": "markdown",
   "id": "a73316a5",
   "metadata": {},
   "source": [
    "# Generate summary statistics for the dataset"
   ]
  },
  {
   "cell_type": "code",
   "execution_count": 3,
   "id": "c2eb989f",
   "metadata": {},
   "outputs": [
    {
     "data": {
      "text/html": [
       "<div>\n",
       "<style scoped>\n",
       "    .dataframe tbody tr th:only-of-type {\n",
       "        vertical-align: middle;\n",
       "    }\n",
       "\n",
       "    .dataframe tbody tr th {\n",
       "        vertical-align: top;\n",
       "    }\n",
       "\n",
       "    .dataframe thead th {\n",
       "        text-align: right;\n",
       "    }\n",
       "</style>\n",
       "<table border=\"1\" class=\"dataframe\">\n",
       "  <thead>\n",
       "    <tr style=\"text-align: right;\">\n",
       "      <th></th>\n",
       "      <th>FID</th>\n",
       "      <th>INDEX_NO</th>\n",
       "      <th>REGION_NO</th>\n",
       "      <th>LATITUDE</th>\n",
       "      <th>LONGITUDE</th>\n",
       "      <th>LAT_DEG</th>\n",
       "      <th>LAT_MIN</th>\n",
       "      <th>LONG_DEG</th>\n",
       "      <th>LONG_MIN</th>\n",
       "    </tr>\n",
       "  </thead>\n",
       "  <tbody>\n",
       "    <tr>\n",
       "      <th>count</th>\n",
       "      <td>3669.000000</td>\n",
       "      <td>3669.000000</td>\n",
       "      <td>3669.000000</td>\n",
       "      <td>3669.000000</td>\n",
       "      <td>3669.000000</td>\n",
       "      <td>3669.000000</td>\n",
       "      <td>3669.000000</td>\n",
       "      <td>3669.000000</td>\n",
       "      <td>3669.000000</td>\n",
       "    </tr>\n",
       "    <tr>\n",
       "      <th>mean</th>\n",
       "      <td>1835.000000</td>\n",
       "      <td>31745.298174</td>\n",
       "      <td>31367.364132</td>\n",
       "      <td>31.414318</td>\n",
       "      <td>-1.543836</td>\n",
       "      <td>36.354593</td>\n",
       "      <td>29.840283</td>\n",
       "      <td>67.920414</td>\n",
       "      <td>28.963750</td>\n",
       "    </tr>\n",
       "    <tr>\n",
       "      <th>std</th>\n",
       "      <td>1059.293397</td>\n",
       "      <td>19171.301320</td>\n",
       "      <td>19255.522210</td>\n",
       "      <td>26.529950</td>\n",
       "      <td>84.645854</td>\n",
       "      <td>18.234745</td>\n",
       "      <td>17.629876</td>\n",
       "      <td>49.867263</td>\n",
       "      <td>17.234227</td>\n",
       "    </tr>\n",
       "    <tr>\n",
       "      <th>min</th>\n",
       "      <td>1.000000</td>\n",
       "      <td>70.000000</td>\n",
       "      <td>60.000000</td>\n",
       "      <td>-77.850000</td>\n",
       "      <td>-177.366667</td>\n",
       "      <td>0.000000</td>\n",
       "      <td>0.000000</td>\n",
       "      <td>0.000000</td>\n",
       "      <td>0.000000</td>\n",
       "    </tr>\n",
       "    <tr>\n",
       "      <th>25%</th>\n",
       "      <td>918.000000</td>\n",
       "      <td>13800.000000</td>\n",
       "      <td>13310.000000</td>\n",
       "      <td>15.816667</td>\n",
       "      <td>-73.433333</td>\n",
       "      <td>22.000000</td>\n",
       "      <td>14.000000</td>\n",
       "      <td>17.000000</td>\n",
       "      <td>14.000000</td>\n",
       "    </tr>\n",
       "    <tr>\n",
       "      <th>50%</th>\n",
       "      <td>1835.000000</td>\n",
       "      <td>31880.000000</td>\n",
       "      <td>31870.000000</td>\n",
       "      <td>38.933333</td>\n",
       "      <td>4.350000</td>\n",
       "      <td>40.000000</td>\n",
       "      <td>30.000000</td>\n",
       "      <td>69.000000</td>\n",
       "      <td>29.000000</td>\n",
       "    </tr>\n",
       "    <tr>\n",
       "      <th>75%</th>\n",
       "      <td>2752.000000</td>\n",
       "      <td>48267.000000</td>\n",
       "      <td>48260.000000</td>\n",
       "      <td>50.183333</td>\n",
       "      <td>41.583333</td>\n",
       "      <td>50.000000</td>\n",
       "      <td>45.000000</td>\n",
       "      <td>116.000000</td>\n",
       "      <td>44.000000</td>\n",
       "    </tr>\n",
       "    <tr>\n",
       "      <th>max</th>\n",
       "      <td>3669.000000</td>\n",
       "      <td>63130.000000</td>\n",
       "      <td>63060.000000</td>\n",
       "      <td>78.916667</td>\n",
       "      <td>179.366667</td>\n",
       "      <td>78.000000</td>\n",
       "      <td>59.000000</td>\n",
       "      <td>179.000000</td>\n",
       "      <td>59.000000</td>\n",
       "    </tr>\n",
       "  </tbody>\n",
       "</table>\n",
       "</div>"
      ],
      "text/plain": [
       "               FID      INDEX_NO     REGION_NO     LATITUDE    LONGITUDE  \\\n",
       "count  3669.000000   3669.000000   3669.000000  3669.000000  3669.000000   \n",
       "mean   1835.000000  31745.298174  31367.364132    31.414318    -1.543836   \n",
       "std    1059.293397  19171.301320  19255.522210    26.529950    84.645854   \n",
       "min       1.000000     70.000000     60.000000   -77.850000  -177.366667   \n",
       "25%     918.000000  13800.000000  13310.000000    15.816667   -73.433333   \n",
       "50%    1835.000000  31880.000000  31870.000000    38.933333     4.350000   \n",
       "75%    2752.000000  48267.000000  48260.000000    50.183333    41.583333   \n",
       "max    3669.000000  63130.000000  63060.000000    78.916667   179.366667   \n",
       "\n",
       "           LAT_DEG      LAT_MIN     LONG_DEG     LONG_MIN  \n",
       "count  3669.000000  3669.000000  3669.000000  3669.000000  \n",
       "mean     36.354593    29.840283    67.920414    28.963750  \n",
       "std      18.234745    17.629876    49.867263    17.234227  \n",
       "min       0.000000     0.000000     0.000000     0.000000  \n",
       "25%      22.000000    14.000000    17.000000    14.000000  \n",
       "50%      40.000000    30.000000    69.000000    29.000000  \n",
       "75%      50.000000    45.000000   116.000000    44.000000  \n",
       "max      78.000000    59.000000   179.000000    59.000000  "
      ]
     },
     "execution_count": 3,
     "metadata": {},
     "output_type": "execute_result"
    }
   ],
   "source": [
    "df.describe()"
   ]
  },
  {
   "cell_type": "markdown",
   "id": "7ce57521",
   "metadata": {},
   "source": [
    "# Display information about the DataFrame"
   ]
  },
  {
   "cell_type": "code",
   "execution_count": 4,
   "id": "13128ee3",
   "metadata": {},
   "outputs": [
    {
     "name": "stdout",
     "output_type": "stream",
     "text": [
      "<class 'pandas.core.frame.DataFrame'>\n",
      "RangeIndex: 3669 entries, 0 to 3668\n",
      "Data columns (total 20 columns):\n",
      " #   Column      Non-Null Count  Dtype  \n",
      "---  ------      --------------  -----  \n",
      " 0   FID         3669 non-null   int64  \n",
      " 1   INDEX_NO    3669 non-null   int64  \n",
      " 2   REGION_NO   3669 non-null   int64  \n",
      " 3   PORT_NAME   3669 non-null   object \n",
      " 4   COUNTRY     3667 non-null   object \n",
      " 5   LATITUDE    3669 non-null   float64\n",
      " 6   LONGITUDE   3669 non-null   float64\n",
      " 7   LAT_DEG     3669 non-null   int64  \n",
      " 8   LAT_MIN     3669 non-null   int64  \n",
      " 9   LAT_HEMI    3669 non-null   object \n",
      " 10  LONG_DEG    3669 non-null   int64  \n",
      " 11  LONG_MIN    3669 non-null   int64  \n",
      " 12  LONG_HEMI   3669 non-null   object \n",
      " 13  PUB         3669 non-null   object \n",
      " 14  CHART       3669 non-null   object \n",
      " 15  HARBORSIZE  3669 non-null   object \n",
      " 16  HARBORTYPE  3669 non-null   object \n",
      " 17  SHELTER     3669 non-null   object \n",
      " 18  ENTRY_TIDE  3669 non-null   object \n",
      " 19  ENTRYSWELL  3669 non-null   object \n",
      "dtypes: float64(2), int64(7), object(11)\n",
      "memory usage: 573.4+ KB\n"
     ]
    }
   ],
   "source": [
    "df.info()"
   ]
  },
  {
   "cell_type": "code",
   "execution_count": 5,
   "id": "f6e31969",
   "metadata": {},
   "outputs": [
    {
     "data": {
      "text/html": [
       "<div>\n",
       "<style scoped>\n",
       "    .dataframe tbody tr th:only-of-type {\n",
       "        vertical-align: middle;\n",
       "    }\n",
       "\n",
       "    .dataframe tbody tr th {\n",
       "        vertical-align: top;\n",
       "    }\n",
       "\n",
       "    .dataframe thead th {\n",
       "        text-align: right;\n",
       "    }\n",
       "</style>\n",
       "<table border=\"1\" class=\"dataframe\">\n",
       "  <thead>\n",
       "    <tr style=\"text-align: right;\">\n",
       "      <th></th>\n",
       "      <th>FID</th>\n",
       "      <th>INDEX_NO</th>\n",
       "      <th>REGION_NO</th>\n",
       "      <th>PORT_NAME</th>\n",
       "      <th>COUNTRY</th>\n",
       "      <th>LATITUDE</th>\n",
       "      <th>LONGITUDE</th>\n",
       "      <th>LAT_DEG</th>\n",
       "      <th>LAT_MIN</th>\n",
       "      <th>LAT_HEMI</th>\n",
       "      <th>LONG_DEG</th>\n",
       "      <th>LONG_MIN</th>\n",
       "      <th>LONG_HEMI</th>\n",
       "      <th>PUB</th>\n",
       "      <th>CHART</th>\n",
       "      <th>HARBORSIZE</th>\n",
       "      <th>HARBORTYPE</th>\n",
       "      <th>SHELTER</th>\n",
       "      <th>ENTRY_TIDE</th>\n",
       "      <th>ENTRYSWELL</th>\n",
       "    </tr>\n",
       "  </thead>\n",
       "  <tbody>\n",
       "    <tr>\n",
       "      <th>2970</th>\n",
       "      <td>2971</td>\n",
       "      <td>46650</td>\n",
       "      <td>46635</td>\n",
       "      <td>LUDERITZ BAY</td>\n",
       "      <td>NaN</td>\n",
       "      <td>-26.65</td>\n",
       "      <td>15.15</td>\n",
       "      <td>26</td>\n",
       "      <td>39</td>\n",
       "      <td>S</td>\n",
       "      <td>15</td>\n",
       "      <td>9</td>\n",
       "      <td>E</td>\n",
       "      <td>123</td>\n",
       "      <td>57408</td>\n",
       "      <td>S</td>\n",
       "      <td>CB</td>\n",
       "      <td>F</td>\n",
       "      <td></td>\n",
       "      <td></td>\n",
       "    </tr>\n",
       "    <tr>\n",
       "      <th>2971</th>\n",
       "      <td>2972</td>\n",
       "      <td>46640</td>\n",
       "      <td>46635</td>\n",
       "      <td>WALVIS BAY</td>\n",
       "      <td>NaN</td>\n",
       "      <td>-22.95</td>\n",
       "      <td>14.50</td>\n",
       "      <td>22</td>\n",
       "      <td>57</td>\n",
       "      <td>S</td>\n",
       "      <td>14</td>\n",
       "      <td>30</td>\n",
       "      <td>E</td>\n",
       "      <td>123</td>\n",
       "      <td>57381</td>\n",
       "      <td>S</td>\n",
       "      <td>CN</td>\n",
       "      <td>G</td>\n",
       "      <td>N</td>\n",
       "      <td>Y</td>\n",
       "    </tr>\n",
       "  </tbody>\n",
       "</table>\n",
       "</div>"
      ],
      "text/plain": [
       "       FID  INDEX_NO  REGION_NO     PORT_NAME COUNTRY  LATITUDE  LONGITUDE  \\\n",
       "2970  2971     46650      46635  LUDERITZ BAY     NaN    -26.65      15.15   \n",
       "2971  2972     46640      46635    WALVIS BAY     NaN    -22.95      14.50   \n",
       "\n",
       "      LAT_DEG  LAT_MIN LAT_HEMI  LONG_DEG  LONG_MIN LONG_HEMI  PUB  CHART  \\\n",
       "2970       26       39        S        15         9         E  123  57408   \n",
       "2971       22       57        S        14        30         E  123  57381   \n",
       "\n",
       "     HARBORSIZE HARBORTYPE SHELTER ENTRY_TIDE ENTRYSWELL  \n",
       "2970          S         CB       F                        \n",
       "2971          S         CN       G          N          Y  "
      ]
     },
     "execution_count": 5,
     "metadata": {},
     "output_type": "execute_result"
    }
   ],
   "source": [
    "df[df.isnull().any(axis=1)]"
   ]
  },
  {
   "cell_type": "markdown",
   "id": "0214212d",
   "metadata": {},
   "source": [
    "# Display the last few rows of the DataFrame"
   ]
  },
  {
   "cell_type": "code",
   "execution_count": 6,
   "id": "9838e9af",
   "metadata": {},
   "outputs": [
    {
     "name": "stdout",
     "output_type": "stream",
     "text": [
      "       FID  INDEX_NO  REGION_NO   PORT_NAME COUNTRY   LATITUDE   LONGITUDE  \\\n",
      "3664  3665     19490      19080        TODD      US  57.466667 -135.050000   \n",
      "3665  3666     19510      19080    HOOD BAY      US  57.400000 -134.500000   \n",
      "3666  3667     19520      19080  HAWK INLET      US  58.116667 -134.750000   \n",
      "3667  3668     19530      19080      FUNTER      US  58.250000 -134.900000   \n",
      "3668  3669     19550      19080      DUPONT      US  58.233333 -134.266667   \n",
      "\n",
      "      LAT_DEG  LAT_MIN LAT_HEMI  LONG_DEG  LONG_MIN LONG_HEMI   PUB  CHART  \\\n",
      "3664       57       28        N       135         3         W  CP08  17338   \n",
      "3665       57       24        N       134        30         W  CP08  17339   \n",
      "3666       58        7        N       134        45         W  CP08  17312   \n",
      "3667       58       15        N       134        54         W  CP08  17316   \n",
      "3668       58       14        N       134        16         W  CP08  17315   \n",
      "\n",
      "     HARBORSIZE HARBORTYPE SHELTER ENTRY_TIDE ENTRYSWELL  \n",
      "3664          V         CN       F                        \n",
      "3665          V         CN       G          N          N  \n",
      "3666          V         CN       G          Y          N  \n",
      "3667          V         CN       G          N          N  \n",
      "3668          V         CN       F                        \n"
     ]
    }
   ],
   "source": [
    "print(df.tail())"
   ]
  },
  {
   "cell_type": "code",
   "execution_count": 8,
   "id": "27f867d1",
   "metadata": {},
   "outputs": [
    {
     "name": "stdout",
     "output_type": "stream",
     "text": [
      "DataFrame Shape:\n",
      "(3669, 20)\n"
     ]
    }
   ],
   "source": [
    "print(\"DataFrame Shape:\")\n",
    "print(df.shape)\n"
   ]
  },
  {
   "cell_type": "markdown",
   "id": "63fd3e38",
   "metadata": {},
   "source": [
    "# Display the summary statistics"
   ]
  },
  {
   "cell_type": "code",
   "execution_count": 10,
   "id": "db3df17f",
   "metadata": {},
   "outputs": [],
   "source": [
    "summary_statistics = df.describe()\n"
   ]
  },
  {
   "cell_type": "code",
   "execution_count": 11,
   "id": "f2a5adab",
   "metadata": {},
   "outputs": [
    {
     "name": "stdout",
     "output_type": "stream",
     "text": [
      "\n",
      "Summary Statistics:\n",
      "               FID      INDEX_NO     REGION_NO     LATITUDE    LONGITUDE  \\\n",
      "count  3669.000000   3669.000000   3669.000000  3669.000000  3669.000000   \n",
      "mean   1835.000000  31745.298174  31367.364132    31.414318    -1.543836   \n",
      "std    1059.293397  19171.301320  19255.522210    26.529950    84.645854   \n",
      "min       1.000000     70.000000     60.000000   -77.850000  -177.366667   \n",
      "25%     918.000000  13800.000000  13310.000000    15.816667   -73.433333   \n",
      "50%    1835.000000  31880.000000  31870.000000    38.933333     4.350000   \n",
      "75%    2752.000000  48267.000000  48260.000000    50.183333    41.583333   \n",
      "max    3669.000000  63130.000000  63060.000000    78.916667   179.366667   \n",
      "\n",
      "           LAT_DEG      LAT_MIN     LONG_DEG     LONG_MIN  \n",
      "count  3669.000000  3669.000000  3669.000000  3669.000000  \n",
      "mean     36.354593    29.840283    67.920414    28.963750  \n",
      "std      18.234745    17.629876    49.867263    17.234227  \n",
      "min       0.000000     0.000000     0.000000     0.000000  \n",
      "25%      22.000000    14.000000    17.000000    14.000000  \n",
      "50%      40.000000    30.000000    69.000000    29.000000  \n",
      "75%      50.000000    45.000000   116.000000    44.000000  \n",
      "max      78.000000    59.000000   179.000000    59.000000  \n"
     ]
    }
   ],
   "source": [
    "print(\"\\nSummary Statistics:\")\n",
    "print(summary_statistics)"
   ]
  },
  {
   "cell_type": "code",
   "execution_count": 14,
   "id": "fe1cbecf",
   "metadata": {},
   "outputs": [
    {
     "name": "stdout",
     "output_type": "stream",
     "text": [
      "<bound method NDFrame._add_numeric_operations.<locals>.sum of         FID  INDEX_NO  REGION_NO  PORT_NAME  COUNTRY  LATITUDE  LONGITUDE  \\\n",
      "0     False     False      False      False    False     False      False   \n",
      "1     False     False      False      False    False     False      False   \n",
      "2     False     False      False      False    False     False      False   \n",
      "3     False     False      False      False    False     False      False   \n",
      "4     False     False      False      False    False     False      False   \n",
      "...     ...       ...        ...        ...      ...       ...        ...   \n",
      "3664  False     False      False      False    False     False      False   \n",
      "3665  False     False      False      False    False     False      False   \n",
      "3666  False     False      False      False    False     False      False   \n",
      "3667  False     False      False      False    False     False      False   \n",
      "3668  False     False      False      False    False     False      False   \n",
      "\n",
      "      LAT_DEG  LAT_MIN  LAT_HEMI  LONG_DEG  LONG_MIN  LONG_HEMI    PUB  CHART  \\\n",
      "0       False    False     False     False     False      False  False  False   \n",
      "1       False    False     False     False     False      False  False  False   \n",
      "2       False    False     False     False     False      False  False  False   \n",
      "3       False    False     False     False     False      False  False  False   \n",
      "4       False    False     False     False     False      False  False  False   \n",
      "...       ...      ...       ...       ...       ...        ...    ...    ...   \n",
      "3664    False    False     False     False     False      False  False  False   \n",
      "3665    False    False     False     False     False      False  False  False   \n",
      "3666    False    False     False     False     False      False  False  False   \n",
      "3667    False    False     False     False     False      False  False  False   \n",
      "3668    False    False     False     False     False      False  False  False   \n",
      "\n",
      "      HARBORSIZE  HARBORTYPE  SHELTER  ENTRY_TIDE  ENTRYSWELL  \n",
      "0          False       False    False       False       False  \n",
      "1          False       False    False       False       False  \n",
      "2          False       False    False       False       False  \n",
      "3          False       False    False       False       False  \n",
      "4          False       False    False       False       False  \n",
      "...          ...         ...      ...         ...         ...  \n",
      "3664       False       False    False       False       False  \n",
      "3665       False       False    False       False       False  \n",
      "3666       False       False    False       False       False  \n",
      "3667       False       False    False       False       False  \n",
      "3668       False       False    False       False       False  \n",
      "\n",
      "[3669 rows x 20 columns]>\n"
     ]
    }
   ],
   "source": [
    "missing = df.isnull().sum\n",
    "print(missing)"
   ]
  },
  {
   "cell_type": "code",
   "execution_count": 18,
   "id": "3631dc69",
   "metadata": {},
   "outputs": [
    {
     "name": "stdout",
     "output_type": "stream",
     "text": [
      "\n",
      "Column Names:\n",
      "Index(['FID', 'INDEX_NO', 'REGION_NO', 'PORT_NAME', 'COUNTRY', 'LATITUDE',\n",
      "       'LONGITUDE', 'LAT_DEG', 'LAT_MIN', 'LAT_HEMI', 'LONG_DEG', 'LONG_MIN',\n",
      "       'LONG_HEMI', 'PUB', 'CHART', 'HARBORSIZE', 'HARBORTYPE', 'SHELTER',\n",
      "       'ENTRY_TIDE', 'ENTRYSWELL'],\n",
      "      dtype='object')\n"
     ]
    }
   ],
   "source": [
    "print(\"\\nColumn Names:\")\n",
    "print(df.columns)\n"
   ]
  },
  {
   "cell_type": "markdown",
   "id": "e91f5cb8",
   "metadata": {},
   "source": [
    "# 2.\tWrite a code in Python to determine the shape (number of rows and columns) of a DataFrame and generate summary statistics for the dataset."
   ]
  },
  {
   "cell_type": "code",
   "execution_count": 32,
   "id": "2ad977a6",
   "metadata": {},
   "outputs": [
    {
     "name": "stdout",
     "output_type": "stream",
     "text": [
      "DataFrame Shape:\n",
      "(5, 4)\n",
      "\n",
      "Summary Statistics:\n",
      "            FID   LATITUDE   LONGITUDE\n",
      "count  5.000000   5.000000    5.000000\n",
      "mean   3.000000  23.130000   76.293333\n",
      "std    1.581139  14.393871   45.074792\n",
      "min    1.000000  11.883333   26.700000\n",
      "25%    2.000000  12.250000   27.133333\n",
      "50%    3.000000  13.766667  109.166667\n",
      "75%    4.000000  38.433333  109.233333\n",
      "max    5.000000  39.316667  109.233333\n"
     ]
    }
   ],
   "source": [
    "import pandas as pd\n",
    "\n",
    "data = {\n",
    "    'FID': [1, 2, 3, 4, 5],\n",
    "    'PORT_NAME': ['AYVALIK', 'IZMIR', 'VINH CAM RANH', 'NHA TRANG', 'QUI NHON'],\n",
    "    'LATITUDE': [39.316667, 38.433333, 11.883333, 12.25, 13.766667],\n",
    "    'LONGITUDE': [26.7, 27.133333, 109.166667, 109.233333, 109.233333],\n",
    "}\n",
    "\n",
    "df = pd.DataFrame(data)\n",
    "\n",
    "print(\"DataFrame Shape:\")\n",
    "print(df.shape)\n",
    "\n",
    "summary_statistics = df.describe()\n",
    "\n",
    "print(\"\\nSummary Statistics:\")\n",
    "print(summary_statistics)\n",
    "\n"
   ]
  },
  {
   "cell_type": "markdown",
   "id": "22e331e9",
   "metadata": {},
   "source": [
    "# 3.\tWrite a code to determine the number of unique elements in a specific column of a pandas DataFrame in Python."
   ]
  },
  {
   "cell_type": "code",
   "execution_count": 30,
   "id": "dac02dd5",
   "metadata": {},
   "outputs": [
    {
     "name": "stdout",
     "output_type": "stream",
     "text": [
      "Number of unique elements in 'PORT_NAME': 12\n"
     ]
    }
   ],
   "source": [
    "import pandas as pd\n",
    "\n",
    "data = {\n",
    "    'FID': [1, 2, 3, 4, 5, 6, 7, 8, 9, 10, 11, 12],\n",
    "    'PORT_NAME': ['AYVALIK', 'IZMIR', 'VINH CAM RANH', 'NHA TRANG', 'QUI NHON', 'DA NANG', 'HAI PHONG', 'HON GAI', 'YANDINA', 'TERN ISLAND', 'JOHNSTON ATOLL', 'MIDWAY ISLAND'],\n",
    "}\n",
    "\n",
    "df = pd.DataFrame(data)\n",
    "\n",
    "column_name = 'PORT_NAME'\n",
    "\n",
    "unique_elements_count = df[column_name].nunique()\n",
    "\n",
    "print(f\"Number of unique elements in '{column_name}': {unique_elements_count}\")\n"
   ]
  },
  {
   "cell_type": "markdown",
   "id": "b5b96c3d",
   "metadata": {},
   "source": [
    "# 4.\tWrite a code snippet to check missing values in the dataset."
   ]
  },
  {
   "cell_type": "code",
   "execution_count": 24,
   "id": "88eae0f8",
   "metadata": {},
   "outputs": [
    {
     "name": "stdout",
     "output_type": "stream",
     "text": [
      "Percentage of Missing Values:\n",
      "FID           0.00\n",
      "INDEX_NO      0.00\n",
      "REGION_NO     0.00\n",
      "PORT_NAME     0.00\n",
      "COUNTRY       0.05\n",
      "LATITUDE      0.00\n",
      "LONGITUDE     0.00\n",
      "LAT_DEG       0.00\n",
      "LAT_MIN       0.00\n",
      "LAT_HEMI      0.00\n",
      "LONG_DEG      0.00\n",
      "LONG_MIN      0.00\n",
      "LONG_HEMI     0.00\n",
      "PUB           0.00\n",
      "CHART         0.00\n",
      "HARBORSIZE    0.00\n",
      "HARBORTYPE    0.00\n",
      "SHELTER       0.00\n",
      "ENTRY_TIDE    0.00\n",
      "ENTRYSWELL    0.00\n",
      "dtype: float64\n"
     ]
    }
   ],
   "source": [
    "missing_percentage = (df.isnull().mean() * 100).round(2)\n",
    "\n",
    "print(\"Percentage of Missing Values:\")\n",
    "print(missing_percentage)\n"
   ]
  },
  {
   "cell_type": "markdown",
   "id": "d2dd76f0",
   "metadata": {},
   "source": [
    "# 5.\tWrite a Python code snippet to remove NaN (null) values from a pandas DataFrame"
   ]
  },
  {
   "cell_type": "code",
   "execution_count": 25,
   "id": "4b17d75e",
   "metadata": {},
   "outputs": [
    {
     "name": "stdout",
     "output_type": "stream",
     "text": [
      "DataFrame After Removing Columns with NaN Values:\n",
      "   FID  INDEX_NO  REGION_NO      PORT_NAME   LATITUDE   LONGITUDE  LAT_DEG  \\\n",
      "0    1     44730      44360        AYVALIK  39.316667   26.700000       39   \n",
      "1    2     44750      44360          IZMIR  38.433333   27.133333       38   \n",
      "2    3     57610      57510  VINH CAM RANH  11.883333  109.166667       11   \n",
      "3    4     57620      57510      NHA TRANG  12.250000  109.233333       12   \n",
      "4    5     57640      57510       QUI NHON  13.766667  109.233333       13   \n",
      "\n",
      "   LAT_MIN LAT_HEMI  LONG_DEG  LONG_MIN LONG_HEMI  PUB  CHART HARBORSIZE  \\\n",
      "0       19        N        26        42         E  132  54382          V   \n",
      "1       26        N        27         8         E  132  54387          L   \n",
      "2       53        N       109        10         E  161  93446          S   \n",
      "3       15        N       109        14         E  161  93442          S   \n",
      "4       46        N       109        14         E  161  93491          V   \n",
      "\n",
      "  HARBORTYPE SHELTER ENTRY_TIDE ENTRYSWELL  \n",
      "0         CN       G          N          N  \n",
      "1         CN       F          N          Y  \n",
      "2         CN       G          N          N  \n",
      "3         OR       F          Y          Y  \n",
      "4         CN       F          Y          Y  \n"
     ]
    }
   ],
   "source": [
    "df_cleaned_columns = df.dropna(axis=1)\n",
    "\n",
    "print(\"DataFrame After Removing Columns with NaN Values:\")\n",
    "print(df_cleaned_columns.head())\n"
   ]
  },
  {
   "cell_type": "markdown",
   "id": "b9469fa5",
   "metadata": {},
   "source": [
    "# 6.\tWrite a Python code snippet to fill missing values using different methods."
   ]
  },
  {
   "cell_type": "code",
   "execution_count": 28,
   "id": "62296c49",
   "metadata": {},
   "outputs": [
    {
     "name": "stdout",
     "output_type": "stream",
     "text": [
      "\n",
      "DataFrame After Forward Filling with Limit:\n",
      "   FID  INDEX_NO  REGION_NO      PORT_NAME COUNTRY   LATITUDE   LONGITUDE  \\\n",
      "0    1     44730      44360        AYVALIK      TR  39.316667   26.700000   \n",
      "1    2     44750      44360          IZMIR      TR  38.433333   27.133333   \n",
      "2    3     57610      57510  VINH CAM RANH      VN  11.883333  109.166667   \n",
      "3    4     57620      57510      NHA TRANG      VN  12.250000  109.233333   \n",
      "4    5     57640      57510       QUI NHON      VN  13.766667  109.233333   \n",
      "\n",
      "   LAT_DEG  LAT_MIN LAT_HEMI  LONG_DEG  LONG_MIN LONG_HEMI  PUB  CHART  \\\n",
      "0       39       19        N        26        42         E  132  54382   \n",
      "1       38       26        N        27         8         E  132  54387   \n",
      "2       11       53        N       109        10         E  161  93446   \n",
      "3       12       15        N       109        14         E  161  93442   \n",
      "4       13       46        N       109        14         E  161  93491   \n",
      "\n",
      "  HARBORSIZE HARBORTYPE SHELTER ENTRY_TIDE ENTRYSWELL  \n",
      "0          V         CN       G          N          N  \n",
      "1          L         CN       F          N          Y  \n",
      "2          S         CN       G          N          N  \n",
      "3          S         OR       F          Y          Y  \n",
      "4          V         CN       F          Y          Y  \n"
     ]
    }
   ],
   "source": [
    "df_filled_forward_limit = df.ffill(limit=1)\n",
    "\n",
    "print(\"\\nDataFrame After Forward Filling with Limit:\")\n",
    "print(df_filled_forward_limit.head())\n"
   ]
  },
  {
   "cell_type": "markdown",
   "id": "fb45dc18",
   "metadata": {},
   "source": [
    "# 7.\tWrite a Python code snippet to fill missing values for particular column in a pandas DataFrame using imputation methods such as mean and median."
   ]
  },
  {
   "cell_type": "code",
   "execution_count": 29,
   "id": "81af51e4",
   "metadata": {},
   "outputs": [
    {
     "name": "stdout",
     "output_type": "stream",
     "text": [
      "Mean Values:\n",
      "LATITUDE     19.444444\n",
      "LONGITUDE    29.123611\n",
      "dtype: float64\n",
      "\n",
      "Median Values:\n",
      "LATITUDE      18.833334\n",
      "LONGITUDE    106.875000\n",
      "dtype: float64\n"
     ]
    }
   ],
   "source": [
    "import pandas as pd\n",
    "\n",
    "# Your DataFrame\n",
    "data = {\n",
    "    'FID': [1, 2, 3, 4, 5, 6, 7, 8, 9, 10, 11, 12],\n",
    "    'LATITUDE': [39.316667, 38.433333, 11.883333, 12.25, 13.766667, 16.1, 20.916667, 20.95, -9.083333, 23.866667, 16.75, 28.183333],\n",
    "    'LONGITUDE': [26.7, 27.133333, 109.166667, 109.233333, 109.233333, 108.216667, 106.683333, 107.066667, 159.216667, -166.283333, -169.516667, -177.366667],\n",
    "}\n",
    "\n",
    "df = pd.DataFrame(data)\n",
    "\n",
    "columns_to_process = ['LATITUDE', 'LONGITUDE']\n",
    "\n",
    "mean_values = df[columns_to_process].mean()\n",
    "median_values = df[columns_to_process].median()\n",
    "\n",
    "print(\"Mean Values:\")\n",
    "print(mean_values)\n",
    "\n",
    "print(\"\\nMedian Values:\")\n",
    "print(median_values)\n"
   ]
  },
  {
   "cell_type": "code",
   "execution_count": null,
   "id": "e58c6430",
   "metadata": {},
   "outputs": [],
   "source": []
  }
 ],
 "metadata": {
  "kernelspec": {
   "display_name": "Python 3 (ipykernel)",
   "language": "python",
   "name": "python3"
  },
  "language_info": {
   "codemirror_mode": {
    "name": "ipython",
    "version": 3
   },
   "file_extension": ".py",
   "mimetype": "text/x-python",
   "name": "python",
   "nbconvert_exporter": "python",
   "pygments_lexer": "ipython3",
   "version": "3.11.4"
  }
 },
 "nbformat": 4,
 "nbformat_minor": 5
}
